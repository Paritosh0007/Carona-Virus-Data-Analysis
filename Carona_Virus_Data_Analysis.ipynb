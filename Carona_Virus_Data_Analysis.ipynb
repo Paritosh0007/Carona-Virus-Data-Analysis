{
  "nbformat": 4,
  "nbformat_minor": 0,
  "metadata": {
    "colab": {
      "name": "Carona_Virus_Data_Analysis.ipynb",
      "provenance": [],
      "mount_file_id": "1JsOsWD7vwLMcZ9eJigvJtzlZtcjodC70",
      "authorship_tag": "ABX9TyOLnH6tW6b7KeogfbtDuMl9",
      "include_colab_link": true
    },
    "kernelspec": {
      "name": "python3",
      "display_name": "Python 3"
    },
    "accelerator": "GPU"
  },
  "cells": [
    {
      "cell_type": "markdown",
      "metadata": {
        "id": "view-in-github",
        "colab_type": "text"
      },
      "source": [
        "<a href=\"https://colab.research.google.com/github/Paritosh0007/Carona-Virus-Data-Analysis/blob/master/Carona_Virus_Data_Analysis.ipynb\" target=\"_parent\"><img src=\"https://colab.research.google.com/assets/colab-badge.svg\" alt=\"Open In Colab\"/></a>"
      ]
    },
    {
      "cell_type": "code",
      "metadata": {
        "id": "jmxC_1Yq5XOi",
        "colab_type": "code",
        "colab": {}
      },
      "source": [
        "import pandas as pd\n",
        "import matplotlib.pyplot as plt\n",
        "%matplotlib inline"
      ],
      "execution_count": 0,
      "outputs": []
    },
    {
      "cell_type": "code",
      "metadata": {
        "id": "_c1txuFS8zQv",
        "colab_type": "code",
        "colab": {}
      },
      "source": [
        "corona = pd.read_csv(\"/content/drive/My Drive/Caronaviros /covid_19_data.csv\",parse_dates=[\"ObservationDate\"])"
      ],
      "execution_count": 0,
      "outputs": []
    },
    {
      "cell_type": "code",
      "metadata": {
        "id": "zs4nNomv9Nl4",
        "colab_type": "code",
        "outputId": "523ef828-bf51-4532-ad1d-6e55175dbf79",
        "colab": {
          "base_uri": "https://localhost:8080/",
          "height": 204
        }
      },
      "source": [
        "corona.head()"
      ],
      "execution_count": 0,
      "outputs": [
        {
          "output_type": "execute_result",
          "data": {
            "text/html": [
              "<div>\n",
              "<style scoped>\n",
              "    .dataframe tbody tr th:only-of-type {\n",
              "        vertical-align: middle;\n",
              "    }\n",
              "\n",
              "    .dataframe tbody tr th {\n",
              "        vertical-align: top;\n",
              "    }\n",
              "\n",
              "    .dataframe thead th {\n",
              "        text-align: right;\n",
              "    }\n",
              "</style>\n",
              "<table border=\"1\" class=\"dataframe\">\n",
              "  <thead>\n",
              "    <tr style=\"text-align: right;\">\n",
              "      <th></th>\n",
              "      <th>SNo</th>\n",
              "      <th>ObservationDate</th>\n",
              "      <th>Province/State</th>\n",
              "      <th>Country/Region</th>\n",
              "      <th>Last Update</th>\n",
              "      <th>Confirmed</th>\n",
              "      <th>Deaths</th>\n",
              "      <th>Recovered</th>\n",
              "    </tr>\n",
              "  </thead>\n",
              "  <tbody>\n",
              "    <tr>\n",
              "      <th>0</th>\n",
              "      <td>1</td>\n",
              "      <td>2020-01-22</td>\n",
              "      <td>Anhui</td>\n",
              "      <td>Mainland China</td>\n",
              "      <td>1/22/2020 17:00</td>\n",
              "      <td>1.0</td>\n",
              "      <td>0.0</td>\n",
              "      <td>0.0</td>\n",
              "    </tr>\n",
              "    <tr>\n",
              "      <th>1</th>\n",
              "      <td>2</td>\n",
              "      <td>2020-01-22</td>\n",
              "      <td>Beijing</td>\n",
              "      <td>Mainland China</td>\n",
              "      <td>1/22/2020 17:00</td>\n",
              "      <td>14.0</td>\n",
              "      <td>0.0</td>\n",
              "      <td>0.0</td>\n",
              "    </tr>\n",
              "    <tr>\n",
              "      <th>2</th>\n",
              "      <td>3</td>\n",
              "      <td>2020-01-22</td>\n",
              "      <td>Chongqing</td>\n",
              "      <td>Mainland China</td>\n",
              "      <td>1/22/2020 17:00</td>\n",
              "      <td>6.0</td>\n",
              "      <td>0.0</td>\n",
              "      <td>0.0</td>\n",
              "    </tr>\n",
              "    <tr>\n",
              "      <th>3</th>\n",
              "      <td>4</td>\n",
              "      <td>2020-01-22</td>\n",
              "      <td>Fujian</td>\n",
              "      <td>Mainland China</td>\n",
              "      <td>1/22/2020 17:00</td>\n",
              "      <td>1.0</td>\n",
              "      <td>0.0</td>\n",
              "      <td>0.0</td>\n",
              "    </tr>\n",
              "    <tr>\n",
              "      <th>4</th>\n",
              "      <td>5</td>\n",
              "      <td>2020-01-22</td>\n",
              "      <td>Gansu</td>\n",
              "      <td>Mainland China</td>\n",
              "      <td>1/22/2020 17:00</td>\n",
              "      <td>0.0</td>\n",
              "      <td>0.0</td>\n",
              "      <td>0.0</td>\n",
              "    </tr>\n",
              "  </tbody>\n",
              "</table>\n",
              "</div>"
            ],
            "text/plain": [
              "   SNo ObservationDate Province/State  ... Confirmed Deaths  Recovered\n",
              "0    1      2020-01-22          Anhui  ...       1.0    0.0        0.0\n",
              "1    2      2020-01-22        Beijing  ...      14.0    0.0        0.0\n",
              "2    3      2020-01-22      Chongqing  ...       6.0    0.0        0.0\n",
              "3    4      2020-01-22         Fujian  ...       1.0    0.0        0.0\n",
              "4    5      2020-01-22          Gansu  ...       0.0    0.0        0.0\n",
              "\n",
              "[5 rows x 8 columns]"
            ]
          },
          "metadata": {
            "tags": []
          },
          "execution_count": 15
        }
      ]
    },
    {
      "cell_type": "code",
      "metadata": {
        "id": "lH0d6hIX9SFP",
        "colab_type": "code",
        "colab": {}
      },
      "source": [
        "corona = corona.drop(['SNo'],axis=1)"
      ],
      "execution_count": 0,
      "outputs": []
    },
    {
      "cell_type": "code",
      "metadata": {
        "id": "q4ZP-V369WrO",
        "colab_type": "code",
        "outputId": "85f3d118-b845-4a1e-c29e-db9a0e602921",
        "colab": {
          "base_uri": "https://localhost:8080/",
          "height": 204
        }
      },
      "source": [
        "corona.tail()"
      ],
      "execution_count": 0,
      "outputs": [
        {
          "output_type": "execute_result",
          "data": {
            "text/html": [
              "<div>\n",
              "<style scoped>\n",
              "    .dataframe tbody tr th:only-of-type {\n",
              "        vertical-align: middle;\n",
              "    }\n",
              "\n",
              "    .dataframe tbody tr th {\n",
              "        vertical-align: top;\n",
              "    }\n",
              "\n",
              "    .dataframe thead th {\n",
              "        text-align: right;\n",
              "    }\n",
              "</style>\n",
              "<table border=\"1\" class=\"dataframe\">\n",
              "  <thead>\n",
              "    <tr style=\"text-align: right;\">\n",
              "      <th></th>\n",
              "      <th>ObservationDate</th>\n",
              "      <th>Province/State</th>\n",
              "      <th>Country/Region</th>\n",
              "      <th>Last Update</th>\n",
              "      <th>Confirmed</th>\n",
              "      <th>Deaths</th>\n",
              "      <th>Recovered</th>\n",
              "    </tr>\n",
              "  </thead>\n",
              "  <tbody>\n",
              "    <tr>\n",
              "      <th>2105</th>\n",
              "      <td>2020-02-22</td>\n",
              "      <td>Orange, CA</td>\n",
              "      <td>US</td>\n",
              "      <td>2020-02-01T19:53:03</td>\n",
              "      <td>1.0</td>\n",
              "      <td>0.0</td>\n",
              "      <td>0.0</td>\n",
              "    </tr>\n",
              "    <tr>\n",
              "      <th>2106</th>\n",
              "      <td>2020-02-22</td>\n",
              "      <td>Sacramento County, CA</td>\n",
              "      <td>US</td>\n",
              "      <td>2020-02-21T23:13:16</td>\n",
              "      <td>1.0</td>\n",
              "      <td>0.0</td>\n",
              "      <td>0.0</td>\n",
              "    </tr>\n",
              "    <tr>\n",
              "      <th>2107</th>\n",
              "      <td>2020-02-22</td>\n",
              "      <td>San Antonio, TX</td>\n",
              "      <td>US</td>\n",
              "      <td>2020-02-13T18:53:02</td>\n",
              "      <td>1.0</td>\n",
              "      <td>0.0</td>\n",
              "      <td>0.0</td>\n",
              "    </tr>\n",
              "    <tr>\n",
              "      <th>2108</th>\n",
              "      <td>2020-02-22</td>\n",
              "      <td>Seattle, WA</td>\n",
              "      <td>US</td>\n",
              "      <td>2020-02-09T07:03:04</td>\n",
              "      <td>1.0</td>\n",
              "      <td>0.0</td>\n",
              "      <td>1.0</td>\n",
              "    </tr>\n",
              "    <tr>\n",
              "      <th>2109</th>\n",
              "      <td>2020-02-22</td>\n",
              "      <td>Tempe, AZ</td>\n",
              "      <td>US</td>\n",
              "      <td>2020-02-01T19:43:03</td>\n",
              "      <td>1.0</td>\n",
              "      <td>0.0</td>\n",
              "      <td>0.0</td>\n",
              "    </tr>\n",
              "  </tbody>\n",
              "</table>\n",
              "</div>"
            ],
            "text/plain": [
              "     ObservationDate         Province/State  ... Deaths Recovered\n",
              "2105      2020-02-22             Orange, CA  ...    0.0       0.0\n",
              "2106      2020-02-22  Sacramento County, CA  ...    0.0       0.0\n",
              "2107      2020-02-22        San Antonio, TX  ...    0.0       0.0\n",
              "2108      2020-02-22            Seattle, WA  ...    0.0       1.0\n",
              "2109      2020-02-22              Tempe, AZ  ...    0.0       0.0\n",
              "\n",
              "[5 rows x 7 columns]"
            ]
          },
          "metadata": {
            "tags": []
          },
          "execution_count": 17
        }
      ]
    },
    {
      "cell_type": "code",
      "metadata": {
        "id": "6QszT2TL9aZ1",
        "colab_type": "code",
        "outputId": "3235d842-a7f9-4022-a7fd-22e9517554bc",
        "colab": {
          "base_uri": "https://localhost:8080/",
          "height": 452
        }
      },
      "source": [
        "corona.describe(include='all')"
      ],
      "execution_count": 0,
      "outputs": [
        {
          "output_type": "execute_result",
          "data": {
            "text/html": [
              "<div>\n",
              "<style scoped>\n",
              "    .dataframe tbody tr th:only-of-type {\n",
              "        vertical-align: middle;\n",
              "    }\n",
              "\n",
              "    .dataframe tbody tr th {\n",
              "        vertical-align: top;\n",
              "    }\n",
              "\n",
              "    .dataframe thead th {\n",
              "        text-align: right;\n",
              "    }\n",
              "</style>\n",
              "<table border=\"1\" class=\"dataframe\">\n",
              "  <thead>\n",
              "    <tr style=\"text-align: right;\">\n",
              "      <th></th>\n",
              "      <th>ObservationDate</th>\n",
              "      <th>Province/State</th>\n",
              "      <th>Country/Region</th>\n",
              "      <th>Last Update</th>\n",
              "      <th>Confirmed</th>\n",
              "      <th>Deaths</th>\n",
              "      <th>Recovered</th>\n",
              "    </tr>\n",
              "  </thead>\n",
              "  <tbody>\n",
              "    <tr>\n",
              "      <th>count</th>\n",
              "      <td>2110</td>\n",
              "      <td>1534</td>\n",
              "      <td>2110</td>\n",
              "      <td>2110</td>\n",
              "      <td>2110.000000</td>\n",
              "      <td>2110.000000</td>\n",
              "      <td>2110.000000</td>\n",
              "    </tr>\n",
              "    <tr>\n",
              "      <th>unique</th>\n",
              "      <td>32</td>\n",
              "      <td>71</td>\n",
              "      <td>37</td>\n",
              "      <td>609</td>\n",
              "      <td>NaN</td>\n",
              "      <td>NaN</td>\n",
              "      <td>NaN</td>\n",
              "    </tr>\n",
              "    <tr>\n",
              "      <th>top</th>\n",
              "      <td>2020-02-21 00:00:00</td>\n",
              "      <td>Taiwan</td>\n",
              "      <td>Mainland China</td>\n",
              "      <td>1/31/2020 23:59</td>\n",
              "      <td>NaN</td>\n",
              "      <td>NaN</td>\n",
              "      <td>NaN</td>\n",
              "    </tr>\n",
              "    <tr>\n",
              "      <th>freq</th>\n",
              "      <td>84</td>\n",
              "      <td>32</td>\n",
              "      <td>986</td>\n",
              "      <td>62</td>\n",
              "      <td>NaN</td>\n",
              "      <td>NaN</td>\n",
              "      <td>NaN</td>\n",
              "    </tr>\n",
              "    <tr>\n",
              "      <th>first</th>\n",
              "      <td>2020-01-22 00:00:00</td>\n",
              "      <td>NaN</td>\n",
              "      <td>NaN</td>\n",
              "      <td>NaN</td>\n",
              "      <td>NaN</td>\n",
              "      <td>NaN</td>\n",
              "      <td>NaN</td>\n",
              "    </tr>\n",
              "    <tr>\n",
              "      <th>last</th>\n",
              "      <td>2020-02-22 00:00:00</td>\n",
              "      <td>NaN</td>\n",
              "      <td>NaN</td>\n",
              "      <td>NaN</td>\n",
              "      <td>NaN</td>\n",
              "      <td>NaN</td>\n",
              "      <td>NaN</td>\n",
              "    </tr>\n",
              "    <tr>\n",
              "      <th>mean</th>\n",
              "      <td>NaN</td>\n",
              "      <td>NaN</td>\n",
              "      <td>NaN</td>\n",
              "      <td>NaN</td>\n",
              "      <td>538.973460</td>\n",
              "      <td>13.546919</td>\n",
              "      <td>78.179147</td>\n",
              "    </tr>\n",
              "    <tr>\n",
              "      <th>std</th>\n",
              "      <td>NaN</td>\n",
              "      <td>NaN</td>\n",
              "      <td>NaN</td>\n",
              "      <td>NaN</td>\n",
              "      <td>4443.023939</td>\n",
              "      <td>139.516579</td>\n",
              "      <td>656.982337</td>\n",
              "    </tr>\n",
              "    <tr>\n",
              "      <th>min</th>\n",
              "      <td>NaN</td>\n",
              "      <td>NaN</td>\n",
              "      <td>NaN</td>\n",
              "      <td>NaN</td>\n",
              "      <td>0.000000</td>\n",
              "      <td>0.000000</td>\n",
              "      <td>0.000000</td>\n",
              "    </tr>\n",
              "    <tr>\n",
              "      <th>25%</th>\n",
              "      <td>NaN</td>\n",
              "      <td>NaN</td>\n",
              "      <td>NaN</td>\n",
              "      <td>NaN</td>\n",
              "      <td>2.000000</td>\n",
              "      <td>0.000000</td>\n",
              "      <td>0.000000</td>\n",
              "    </tr>\n",
              "    <tr>\n",
              "      <th>50%</th>\n",
              "      <td>NaN</td>\n",
              "      <td>NaN</td>\n",
              "      <td>NaN</td>\n",
              "      <td>NaN</td>\n",
              "      <td>12.000000</td>\n",
              "      <td>0.000000</td>\n",
              "      <td>1.000000</td>\n",
              "    </tr>\n",
              "    <tr>\n",
              "      <th>75%</th>\n",
              "      <td>NaN</td>\n",
              "      <td>NaN</td>\n",
              "      <td>NaN</td>\n",
              "      <td>NaN</td>\n",
              "      <td>119.000000</td>\n",
              "      <td>0.000000</td>\n",
              "      <td>12.000000</td>\n",
              "    </tr>\n",
              "    <tr>\n",
              "      <th>max</th>\n",
              "      <td>NaN</td>\n",
              "      <td>NaN</td>\n",
              "      <td>NaN</td>\n",
              "      <td>NaN</td>\n",
              "      <td>64084.000000</td>\n",
              "      <td>2346.000000</td>\n",
              "      <td>15299.000000</td>\n",
              "    </tr>\n",
              "  </tbody>\n",
              "</table>\n",
              "</div>"
            ],
            "text/plain": [
              "            ObservationDate Province/State  ...       Deaths     Recovered\n",
              "count                  2110           1534  ...  2110.000000   2110.000000\n",
              "unique                   32             71  ...          NaN           NaN\n",
              "top     2020-02-21 00:00:00         Taiwan  ...          NaN           NaN\n",
              "freq                     84             32  ...          NaN           NaN\n",
              "first   2020-01-22 00:00:00            NaN  ...          NaN           NaN\n",
              "last    2020-02-22 00:00:00            NaN  ...          NaN           NaN\n",
              "mean                    NaN            NaN  ...    13.546919     78.179147\n",
              "std                     NaN            NaN  ...   139.516579    656.982337\n",
              "min                     NaN            NaN  ...     0.000000      0.000000\n",
              "25%                     NaN            NaN  ...     0.000000      0.000000\n",
              "50%                     NaN            NaN  ...     0.000000      1.000000\n",
              "75%                     NaN            NaN  ...     0.000000     12.000000\n",
              "max                     NaN            NaN  ...  2346.000000  15299.000000\n",
              "\n",
              "[13 rows x 7 columns]"
            ]
          },
          "metadata": {
            "tags": []
          },
          "execution_count": 18
        }
      ]
    },
    {
      "cell_type": "code",
      "metadata": {
        "id": "VcZXYHz29eQ5",
        "colab_type": "code",
        "colab": {}
      },
      "source": [
        "corona.rename({'Province/State':'Province','Country/Region':'Country'},axis=1,inplace=True)"
      ],
      "execution_count": 0,
      "outputs": []
    },
    {
      "cell_type": "code",
      "metadata": {
        "id": "llKR2rRI9jBm",
        "colab_type": "code",
        "outputId": "a644ba69-5d07-4835-e3e1-cca1d44d4881",
        "colab": {
          "base_uri": "https://localhost:8080/",
          "height": 204
        }
      },
      "source": [
        "corona.head()"
      ],
      "execution_count": 0,
      "outputs": [
        {
          "output_type": "execute_result",
          "data": {
            "text/html": [
              "<div>\n",
              "<style scoped>\n",
              "    .dataframe tbody tr th:only-of-type {\n",
              "        vertical-align: middle;\n",
              "    }\n",
              "\n",
              "    .dataframe tbody tr th {\n",
              "        vertical-align: top;\n",
              "    }\n",
              "\n",
              "    .dataframe thead th {\n",
              "        text-align: right;\n",
              "    }\n",
              "</style>\n",
              "<table border=\"1\" class=\"dataframe\">\n",
              "  <thead>\n",
              "    <tr style=\"text-align: right;\">\n",
              "      <th></th>\n",
              "      <th>ObservationDate</th>\n",
              "      <th>Province</th>\n",
              "      <th>Country</th>\n",
              "      <th>Last Update</th>\n",
              "      <th>Confirmed</th>\n",
              "      <th>Deaths</th>\n",
              "      <th>Recovered</th>\n",
              "    </tr>\n",
              "  </thead>\n",
              "  <tbody>\n",
              "    <tr>\n",
              "      <th>0</th>\n",
              "      <td>2020-01-22</td>\n",
              "      <td>Anhui</td>\n",
              "      <td>Mainland China</td>\n",
              "      <td>1/22/2020 17:00</td>\n",
              "      <td>1.0</td>\n",
              "      <td>0.0</td>\n",
              "      <td>0.0</td>\n",
              "    </tr>\n",
              "    <tr>\n",
              "      <th>1</th>\n",
              "      <td>2020-01-22</td>\n",
              "      <td>Beijing</td>\n",
              "      <td>Mainland China</td>\n",
              "      <td>1/22/2020 17:00</td>\n",
              "      <td>14.0</td>\n",
              "      <td>0.0</td>\n",
              "      <td>0.0</td>\n",
              "    </tr>\n",
              "    <tr>\n",
              "      <th>2</th>\n",
              "      <td>2020-01-22</td>\n",
              "      <td>Chongqing</td>\n",
              "      <td>Mainland China</td>\n",
              "      <td>1/22/2020 17:00</td>\n",
              "      <td>6.0</td>\n",
              "      <td>0.0</td>\n",
              "      <td>0.0</td>\n",
              "    </tr>\n",
              "    <tr>\n",
              "      <th>3</th>\n",
              "      <td>2020-01-22</td>\n",
              "      <td>Fujian</td>\n",
              "      <td>Mainland China</td>\n",
              "      <td>1/22/2020 17:00</td>\n",
              "      <td>1.0</td>\n",
              "      <td>0.0</td>\n",
              "      <td>0.0</td>\n",
              "    </tr>\n",
              "    <tr>\n",
              "      <th>4</th>\n",
              "      <td>2020-01-22</td>\n",
              "      <td>Gansu</td>\n",
              "      <td>Mainland China</td>\n",
              "      <td>1/22/2020 17:00</td>\n",
              "      <td>0.0</td>\n",
              "      <td>0.0</td>\n",
              "      <td>0.0</td>\n",
              "    </tr>\n",
              "  </tbody>\n",
              "</table>\n",
              "</div>"
            ],
            "text/plain": [
              "  ObservationDate   Province         Country  ... Confirmed  Deaths  Recovered\n",
              "0      2020-01-22      Anhui  Mainland China  ...       1.0     0.0        0.0\n",
              "1      2020-01-22    Beijing  Mainland China  ...      14.0     0.0        0.0\n",
              "2      2020-01-22  Chongqing  Mainland China  ...       6.0     0.0        0.0\n",
              "3      2020-01-22     Fujian  Mainland China  ...       1.0     0.0        0.0\n",
              "4      2020-01-22      Gansu  Mainland China  ...       0.0     0.0        0.0\n",
              "\n",
              "[5 rows x 7 columns]"
            ]
          },
          "metadata": {
            "tags": []
          },
          "execution_count": 20
        }
      ]
    },
    {
      "cell_type": "code",
      "metadata": {
        "id": "N87Kg2U39ns8",
        "colab_type": "code",
        "colab": {}
      },
      "source": [
        "corona = corona.drop(['Last Update'],axis=1)"
      ],
      "execution_count": 0,
      "outputs": []
    },
    {
      "cell_type": "code",
      "metadata": {
        "id": "L5IaGqew96OP",
        "colab_type": "code",
        "outputId": "3719b465-919a-480e-b3fc-1071573a4348",
        "colab": {
          "base_uri": "https://localhost:8080/",
          "height": 221
        }
      },
      "source": [
        "corona['Province'].value_counts().sort_values()"
      ],
      "execution_count": 0,
      "outputs": [
        {
          "output_type": "execute_result",
          "data": {
            "text/plain": [
              "Chicago                                  1\n",
              "Lackland, TX                             1\n",
              "Travis, CA (From Diamond Princess)       1\n",
              "None                                     1\n",
              "Lackland, TX (From Diamond Princess)     1\n",
              "                                        ..\n",
              "Shandong                                32\n",
              "Anhui                                   32\n",
              "Guizhou                                 32\n",
              "Gansu                                   32\n",
              "Taiwan                                  32\n",
              "Name: Province, Length: 71, dtype: int64"
            ]
          },
          "metadata": {
            "tags": []
          },
          "execution_count": 22
        }
      ]
    },
    {
      "cell_type": "code",
      "metadata": {
        "id": "f7e_8F2z99RX",
        "colab_type": "code",
        "outputId": "4f4b44b7-e3f1-45a0-d737-28e8cc801ce7",
        "colab": {
          "base_uri": "https://localhost:8080/",
          "height": 663
        }
      },
      "source": [
        "corona['Country'].value_counts().sort_values()"
      ],
      "execution_count": 0,
      "outputs": [
        {
          "output_type": "execute_result",
          "data": {
            "text/plain": [
              "Colombia                  1\n",
              "Ivory Coast               1\n",
              "Brazil                    1\n",
              "Mexico                    1\n",
              "Israel                    2\n",
              "Lebanon                   2\n",
              "Iran                      4\n",
              "Egypt                     9\n",
              "Others                   16\n",
              "Belgium                  19\n",
              "Spain                    22\n",
              "Sweden                   23\n",
              "Italy                    23\n",
              "Russia                   23\n",
              "UK                       23\n",
              "India                    24\n",
              "Philippines              25\n",
              "United Arab Emirates     25\n",
              "Finland                  25\n",
              "Germany                  26\n",
              "Cambodia                 27\n",
              "Sri Lanka                27\n",
              "Nepal                    29\n",
              "France                   30\n",
              "Malaysia                 30\n",
              "Vietnam                  31\n",
              "Singapore                31\n",
              "Macau                    32\n",
              "South Korea              32\n",
              "Hong Kong                32\n",
              "Taiwan                   32\n",
              "Japan                    32\n",
              "Thailand                 32\n",
              "Canada                   73\n",
              "Australia               105\n",
              "US                      254\n",
              "Mainland China          986\n",
              "Name: Country, dtype: int64"
            ]
          },
          "metadata": {
            "tags": []
          },
          "execution_count": 23
        }
      ]
    },
    {
      "cell_type": "code",
      "metadata": {
        "id": "vGWTX8Gj-BmJ",
        "colab_type": "code",
        "outputId": "c7fe616b-7416-4af5-9f26-aafa3cf2c44e",
        "colab": {
          "base_uri": "https://localhost:8080/",
          "height": 578
        }
      },
      "source": [
        "corona['ObservationDate'].value_counts().sort_values()"
      ],
      "execution_count": 0,
      "outputs": [
        {
          "output_type": "execute_result",
          "data": {
            "text/plain": [
              "2020-01-22    38\n",
              "2020-01-24    41\n",
              "2020-01-25    44\n",
              "2020-01-23    46\n",
              "2020-01-26    47\n",
              "2020-01-27    51\n",
              "2020-01-28    52\n",
              "2020-01-29    54\n",
              "2020-01-30    58\n",
              "2020-01-31    62\n",
              "2020-02-02    67\n",
              "2020-02-01    67\n",
              "2020-02-03    68\n",
              "2020-02-04    70\n",
              "2020-02-06    71\n",
              "2020-02-05    71\n",
              "2020-02-10    72\n",
              "2020-02-08    72\n",
              "2020-02-09    72\n",
              "2020-02-07    72\n",
              "2020-02-12    73\n",
              "2020-02-11    73\n",
              "2020-02-13    74\n",
              "2020-02-18    75\n",
              "2020-02-16    75\n",
              "2020-02-15    75\n",
              "2020-02-14    75\n",
              "2020-02-17    75\n",
              "2020-02-19    76\n",
              "2020-02-20    76\n",
              "2020-02-22    84\n",
              "2020-02-21    84\n",
              "Name: ObservationDate, dtype: int64"
            ]
          },
          "metadata": {
            "tags": []
          },
          "execution_count": 24
        }
      ]
    },
    {
      "cell_type": "code",
      "metadata": {
        "id": "04LbXgw2-HPo",
        "colab_type": "code",
        "colab": {}
      },
      "source": [
        "dates = list(corona['ObservationDate'].dt.day)"
      ],
      "execution_count": 0,
      "outputs": []
    },
    {
      "cell_type": "code",
      "metadata": {
        "id": "QWINjkev-LNH",
        "colab_type": "code",
        "outputId": "4c013046-1bc1-41a6-8b04-dd98adc11bcc",
        "colab": {
          "base_uri": "https://localhost:8080/",
          "height": 302
        }
      },
      "source": [
        "corona.plot(x='ObservationDate',y='Confirmed')"
      ],
      "execution_count": 0,
      "outputs": [
        {
          "output_type": "execute_result",
          "data": {
            "text/plain": [
              "<matplotlib.axes._subplots.AxesSubplot at 0x7fb1976c5828>"
            ]
          },
          "metadata": {
            "tags": []
          },
          "execution_count": 26
        },
        {
          "output_type": "display_data",
          "data": {
            "image/png": "[encoded data removed]",
            "text/plain": [
              "<Figure size 432x288 with 1 Axes>"
            ]
          },
          "metadata": {
            "tags": []
          }
        }
      ]
    },
    {
      "cell_type": "code",
      "metadata": {
        "id": "NHFSo7Om-O2I",
        "colab_type": "code",
        "outputId": "44592d54-8af9-4268-a0b0-d61eba70264c",
        "colab": {
          "base_uri": "https://localhost:8080/",
          "height": 285
        }
      },
      "source": [
        "ax = corona.plot(x='ObservationDate',y='Deaths')"
      ],
      "execution_count": 0,
      "outputs": [
        {
          "output_type": "display_data",
          "data": {
            "image/png": "[encoded data removed]",
            "text/plain": [
              "<Figure size 432x288 with 1 Axes>"
            ]
          },
          "metadata": {
            "tags": []
          }
        }
      ]
    },
    {
      "cell_type": "code",
      "metadata": {
        "id": "6TTTOl_h-THn",
        "colab_type": "code",
        "outputId": "31d1ba40-750a-4e3c-b2ee-a6a4dab62cae",
        "colab": {
          "base_uri": "https://localhost:8080/",
          "height": 306
        }
      },
      "source": [
        "corona.plot(x='ObservationDate',y='Recovered')"
      ],
      "execution_count": 0,
      "outputs": [
        {
          "output_type": "execute_result",
          "data": {
            "text/plain": [
              "<matplotlib.axes._subplots.AxesSubplot at 0x7fb197101198>"
            ]
          },
          "metadata": {
            "tags": []
          },
          "execution_count": 28
        },
        {
          "output_type": "display_data",
          "data": {
            "image/png": "[encoded data removed]",
            "text/plain": [
              "<Figure size 432x288 with 1 Axes>"
            ]
          },
          "metadata": {
            "tags": []
          }
        }
      ]
    },
    {
      "cell_type": "code",
      "metadata": {
        "id": "s15rRFW9-WSK",
        "colab_type": "code",
        "outputId": "032b482a-1f09-427b-f87c-ae570068a837",
        "colab": {
          "base_uri": "https://localhost:8080/",
          "height": 364
        }
      },
      "source": [
        "corona[:10].plot.bar(x='Country',y=['Confirmed','Deaths','Recovered'])"
      ],
      "execution_count": 0,
      "outputs": [
        {
          "output_type": "execute_result",
          "data": {
            "text/plain": [
              "<matplotlib.axes._subplots.AxesSubplot at 0x7fb197171cf8>"
            ]
          },
          "metadata": {
            "tags": []
          },
          "execution_count": 29
        },
        {
          "output_type": "display_data",
          "data": {
            "image/png": "[encoded data removed]",
            "text/plain": [
              "<Figure size 432x288 with 1 Axes>"
            ]
          },
          "metadata": {
            "tags": []
          }
        }
      ]
    },
    {
      "cell_type": "code",
      "metadata": {
        "id": "OHMQJs7V-Z1y",
        "colab_type": "code",
        "colab": {}
      },
      "source": [
        "all_country_recovery = {}\n",
        "all_country_death = {}\n",
        "for country in corona['Country']:\n",
        "    if country not in all_country_recovery and country != 'Mainland China':\n",
        "        all_country_recovery[country] = corona.loc[corona['Country']==country,'Recovered'].sum()\n",
        "        all_country_death[country] = corona.loc[corona['Country']==country,'Deaths'].sum()"
      ],
      "execution_count": 0,
      "outputs": []
    },
    {
      "cell_type": "code",
      "metadata": {
        "id": "w4lE6bmx-lec",
        "colab_type": "code",
        "outputId": "d759aeec-8722-4f41-b610-b647258f7037",
        "colab": {
          "base_uri": "https://localhost:8080/",
          "height": 54
        }
      },
      "source": [
        "all_country_recovery.values()"
      ],
      "execution_count": 0,
      "outputs": [
        {
          "output_type": "execute_result",
          "data": {
            "text/plain": [
              "dict_values([32.0, 55.0, 26.0, 46.0, 184.0, 253.0, 132.0, 293.0, 11.0, 110.0, 106.0, 122.0, 0.0, 0.0, 0.0, 38.0, 11.0, 15.0, 11.0, 15.0, 0.0, 69.0, 11.0, 34.0, 21.0, 1.0, 60.0, 22.0, 0.0, 16.0, 6.0, 4.0, 0.0, 0.0, 0.0, 0.0])"
            ]
          },
          "metadata": {
            "tags": []
          },
          "execution_count": 31
        }
      ]
    },
    {
      "cell_type": "code",
      "metadata": {
        "id": "-2rgMVSz-ouI",
        "colab_type": "code",
        "outputId": "411c76d4-8845-4354-ce53-9a48f6439a44",
        "colab": {
          "base_uri": "https://localhost:8080/",
          "height": 54
        }
      },
      "source": [
        "all_country_death.values()"
      ],
      "execution_count": 0,
      "outputs": [
        {
          "output_type": "execute_result",
          "data": {
            "text/plain": [
              "dict_values([23.0, 0.0, 7.0, 0.0, 10.0, 0.0, 5.0, 0.0, 21.0, 0.0, 0.0, 0.0, 0.0, 0.0, 0.0, 8.0, 0.0, 0.0, 0.0, 0.0, 0.0, 0.0, 0.0, 0.0, 0.0, 3.0, 0.0, 0.0, 0.0, 0.0, 0.0, 6.0, 0.0, 13.0, 0.0, 0.0])"
            ]
          },
          "metadata": {
            "tags": []
          },
          "execution_count": 32
        }
      ]
    },
    {
      "cell_type": "code",
      "metadata": {
        "id": "-ZlY81lM-sgG",
        "colab_type": "code",
        "outputId": "c422b8fe-3ace-485a-9c77-e928a60a3b70",
        "colab": {
          "base_uri": "https://localhost:8080/",
          "height": 279
        }
      },
      "source": [
        "plt.scatter(all_country_death.values(),all_country_recovery.values())\n",
        "plt.xlabel('Deaths a/c country')\n",
        "plt.ylabel('Recovery a/c country')\n",
        "plt.show()"
      ],
      "execution_count": 0,
      "outputs": [
        {
          "output_type": "display_data",
          "data": {
            "image/png": "[encoded data removed]",
            "text/plain": [
              "<Figure size 432x288 with 1 Axes>"
            ]
          },
          "metadata": {
            "tags": []
          }
        }
      ]
    },
    {
      "cell_type": "code",
      "metadata": {
        "id": "BZl3Cyze-wMf",
        "colab_type": "code",
        "colab": {}
      },
      "source": [
        "all_province_recovery = {}\n",
        "all_province_death = {}\n",
        "for province in corona['Province']:\n",
        "    if province not in all_province_recovery and province != 'Hubei':\n",
        "        all_province_recovery[province] = corona.loc[corona['Province']==province,'Recovered'].sum()\n",
        "        all_province_death[province] = corona.loc[corona['Province']==province,'Deaths'].sum()"
      ],
      "execution_count": 0,
      "outputs": []
    },
    {
      "cell_type": "code",
      "metadata": {
        "id": "D3Cu5BZX-2gf",
        "colab_type": "code",
        "outputId": "2fcd9563-6956-46f2-dfa3-0878f7449095",
        "colab": {
          "base_uri": "https://localhost:8080/",
          "height": 1000
        }
      },
      "source": [
        "all_province_recovery"
      ],
      "execution_count": 0,
      "outputs": [
        {
          "output_type": "execute_result",
          "data": {
            "text/plain": [
              "{'Anhui': 4098.0,\n",
              " 'Arizona': 0.0,\n",
              " 'Ashland, NE': 0.0,\n",
              " 'Bavaria': 0.0,\n",
              " 'Beijing': 1620.0,\n",
              " 'Boston, MA': 0.0,\n",
              " 'British Columbia': 0.0,\n",
              " 'California': 0.0,\n",
              " 'Chicago': 0.0,\n",
              " 'Chicago, IL': 28.0,\n",
              " 'Chongqing': 2805.0,\n",
              " 'Cruise Ship': 0.0,\n",
              " 'Diamond Princess cruise ship': 4.0,\n",
              " 'From Diamond Princess': 0.0,\n",
              " 'Fujian': 1250.0,\n",
              " 'Gansu': 720.0,\n",
              " 'Guangdong': 6541.0,\n",
              " 'Guangxi': 858.0,\n",
              " 'Guizhou': 666.0,\n",
              " 'Hainan': 809.0,\n",
              " 'Hebei': 1585.0,\n",
              " 'Heilongjiang': 1211.0,\n",
              " 'Henan': 6466.0,\n",
              " 'Hong Kong': 32.0,\n",
              " 'Humboldt County, CA': 0.0,\n",
              " 'Hunan': 6594.0,\n",
              " 'Illinois': 0.0,\n",
              " 'Inner Mongolia': 155.0,\n",
              " 'Jiangsu': 3251.0,\n",
              " 'Jiangxi': 3932.0,\n",
              " 'Jilin': 437.0,\n",
              " 'Lackland, TX': 0.0,\n",
              " 'Lackland, TX (From Diamond Princess)': 0.0,\n",
              " 'Liaoning': 555.0,\n",
              " 'London, ON': 11.0,\n",
              " 'Los Angeles, CA': 0.0,\n",
              " 'Macau': 55.0,\n",
              " 'Madison, WI': 0.0,\n",
              " 'New South Wales': 68.0,\n",
              " 'Ningxia': 469.0,\n",
              " 'None': 0.0,\n",
              " 'Omaha, NE (From Diamond Princess)': 0.0,\n",
              " 'Ontario': 0.0,\n",
              " 'Orange, CA': 0.0,\n",
              " 'Qinghai': 176.0,\n",
              " 'Queensland': 2.0,\n",
              " 'Sacramento County, CA': 0.0,\n",
              " 'San Antonio, TX': 0.0,\n",
              " 'San Benito, CA': 0.0,\n",
              " 'San Diego County, CA': 2.0,\n",
              " 'Santa Clara, CA': 2.0,\n",
              " 'Seattle, WA': 14.0,\n",
              " 'Shaanxi': 1086.0,\n",
              " 'Shandong': 2495.0,\n",
              " 'Shanghai': 1960.0,\n",
              " 'Shanxi': 766.0,\n",
              " 'Sichuan': 2209.0,\n",
              " 'South Australia': 12.0,\n",
              " 'Taiwan': 26.0,\n",
              " 'Tempe, AZ': 0.0,\n",
              " 'Tianjin': 515.0,\n",
              " 'Tibet': 11.0,\n",
              " 'Toronto, ON': 4.0,\n",
              " 'Travis, CA': 0.0,\n",
              " 'Travis, CA (From Diamond Princess)': 0.0,\n",
              " 'Victoria': 40.0,\n",
              " 'Washington': 0.0,\n",
              " 'Xinjiang': 155.0,\n",
              " 'Yunnan': 733.0,\n",
              " 'Zhejiang': 7014.0,\n",
              " nan: 0.0}"
            ]
          },
          "metadata": {
            "tags": []
          },
          "execution_count": 35
        }
      ]
    },
    {
      "cell_type": "code",
      "metadata": {
        "id": "GD_CJ2Ef-8RH",
        "colab_type": "code",
        "outputId": "8fd95b57-7236-4866-9e95-6015b06bdf64",
        "colab": {
          "base_uri": "https://localhost:8080/",
          "height": 279
        }
      },
      "source": [
        "plt.scatter(all_province_death.values(),all_province_recovery.values())\n",
        "plt.xlabel('Deaths a/c province')\n",
        "plt.ylabel('Recovery a/c province')\n",
        "plt.show()"
      ],
      "execution_count": 0,
      "outputs": [
        {
          "output_type": "display_data",
          "data": {
            "image/png": "[encoded data removed]",
            "text/plain": [
              "<Figure size 432x288 with 1 Axes>"
            ]
          },
          "metadata": {
            "tags": []
          }
        }
      ]
    },
    {
      "cell_type": "code",
      "metadata": {
        "id": "Zed71KtS_CNa",
        "colab_type": "code",
        "colab": {}
      },
      "source": [
        ""
      ],
      "execution_count": 0,
      "outputs": []
    }
  ]
}